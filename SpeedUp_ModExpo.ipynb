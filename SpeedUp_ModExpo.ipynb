{
  "nbformat": 4,
  "nbformat_minor": 0,
  "metadata": {
    "colab": {
      "provenance": [],
      "gpuType": "T4",
      "authorship_tag": "ABX9TyN9qw1BHIxMIMZckRcW0alF",
      "include_colab_link": true
    },
    "kernelspec": {
      "name": "julia",
      "display_name": "julia 1.11.2"
    },
    "accelerator": "GPU"
  },
  "cells": [
    {
      "cell_type": "markdown",
      "metadata": {
        "id": "view-in-github",
        "colab_type": "text"
      },
      "source": [
        "<a href=\"https://colab.research.google.com/github/DS-Amarachi/Julia/blob/main/SpeedUp_ModExpo.ipynb\" target=\"_parent\"><img src=\"https://colab.research.google.com/assets/colab-badge.svg\" alt=\"Open In Colab\"/></a>"
      ]
    },
    {
      "cell_type": "markdown",
      "source": [
        "# **MODULAR EXPONENTIATION ALGORITHMS IN CRYPTOGRAPHIC SYSTEMS**"
      ],
      "metadata": {
        "id": "U2x4zlG5hr7z"
      }
    },
    {
      "cell_type": "markdown",
      "source": [
        "##Python Implementations\n",
        "Here we are using Python built-in tool and the custom tool(the classic repeated squaring method"
      ],
      "metadata": {
        "id": "YBy3FMOOi6_M"
      }
    },
    {
      "cell_type": "markdown",
      "source": [
        "3^3 mod 5 = 3X3X3 mod 5 = 27 mod 5 = 2"
      ],
      "metadata": {
        "id": "BGvQOpf15JRy"
      }
    },
    {
      "cell_type": "markdown",
      "source": [
        "3^13 mod 7\n",
        "13 = 1101\n",
        "1X2^3 +1X2^2 + 0X2^1 + 1X2^0= 8 + 4 + 0 + 1\n",
        "3^1 mod 7 = 3\n",
        "3^0 mod 7 = 1\n",
        "3^4 mod 7 = 81 mod 7 = 4\n",
        "3^8 mod 7 = 2\n",
        "3X1X4X2 = 24 mod 7 = 3"
      ],
      "metadata": {
        "id": "w7vAIQ2l5qH3"
      }
    },
    {
      "cell_type": "code",
      "source": [
        "import time\n",
        "\n",
        "# Built-in Python modular exponentiation\n",
        "def builtin_mod_exp(base, exp, mod):\n",
        "    return pow(base, exp, mod)\n",
        "\n",
        "# Custom modular exponentiation using repeated squaring\n",
        "def mod_exp(base, exp, mod):\n",
        "    result = 1\n",
        "    base = base % mod  # Reduce base modulo mod initially\n",
        "\n",
        "    while exp > 0:\n",
        "        if exp % 2 == 1:  # If exponent is odd, multiply base with result\n",
        "            result = (result * base) % mod\n",
        "        exp = exp // 2  # Divide exponent by 2\n",
        "        base = (base * base) % mod  # Square the base\n",
        "\n",
        "    return result\n",
        "\n",
        "# Benchmarking\n",
        "def benchmark():\n",
        "    base, exp, mod = 987654321, 123456, 1000000007\n",
        "\n",
        "    start = time.time()\n",
        "    result_builtin = builtin_mod_exp(base, exp, mod)\n",
        "    end = time.time()\n",
        "    print(f\"Builtin pow() result: {result_builtin}, Time: {end - start:.6f} sec\")\n",
        "\n",
        "    start = time.time()\n",
        "    result_custom = mod_exp(base, exp, mod)\n",
        "    end = time.time()\n",
        "    print(f\"Custom mod_exp result: {result_custom}, Time: {end - start:.6f} sec\")\n",
        "\n",
        "benchmark()\n"
      ],
      "metadata": {
        "id": "Md_zJCwYzrcx",
        "colab": {
          "base_uri": "https://localhost:8080/"
        },
        "outputId": "bf6dfda1-b167-4ffd-d964-7690662d5d35"
      },
      "execution_count": null,
      "outputs": [
        {
          "output_type": "stream",
          "name": "stdout",
          "text": [
            "Builtin pow() result: 443640203, Time: 0.000005 sec\n",
            "Custom mod_exp result: 443640203, Time: 0.000008 sec\n"
          ]
        }
      ]
    },
    {
      "cell_type": "markdown",
      "source": [
        "## First set up Julia\n",
        "\n",
        "After the python implementation, install Julia and its packages"
      ],
      "metadata": {
        "id": "DwqEJHhP6Nvx"
      }
    },
    {
      "cell_type": "code",
      "execution_count": null,
      "metadata": {
        "id": "Nco5o7jpfhpV",
        "collapsed": true,
        "outputId": "1e752a5e-8552-409e-c486-e2c8360d5299",
        "colab": {
          "base_uri": "https://localhost:8080/"
        }
      },
      "outputs": [
        {
          "output_type": "stream",
          "name": "stdout",
          "text": [
            "Installing Julia 1.11.2 on the current Colab Runtime...\n",
            "2025-02-20 20:39:39 URL:https://storage.googleapis.com/julialang2/bin/linux/x64/1.11/julia-1.11.2-linux-x86_64.tar.gz [285843560/285843560] -> \"/tmp/julia.tar.gz\" [1]\n",
            "Installing Julia package IJulia...\n",
            "Installing Julia package BenchmarkTools...\n",
            "Installing Julia package CUDA...\n",
            "Installing IJulia kernel...\n",
            "\u001b[36m\u001b[1m[ \u001b[22m\u001b[39m\u001b[36m\u001b[1mInfo: \u001b[22m\u001b[39mInstalling julia kernelspec in /root/.local/share/jupyter/kernels/julia-1.11\n",
            "\n",
            "Successfully installed julia version 1.11.2!\n",
            "Please reload this page (press Ctrl+R, ⌘+R, or the F5 key) then\n",
            "jump to the 'Checking the Installation' section.\n"
          ]
        },
        {
          "output_type": "execute_result",
          "data": {
            "text/plain": []
          },
          "metadata": {},
          "execution_count": 2
        }
      ],
      "source": [
        "%%shell\n",
        "set -e\n",
        "\n",
        "#---------------------------------------------------#\n",
        "JULIA_VERSION=\"1.11.2\" # any version ≥ 0.7.0\n",
        "JULIA_PACKAGES=\"IJulia BenchmarkTools\"\n",
        "JULIA_PACKAGES_IF_GPU=\"CUDA\" # or CuArrays for older Julia versions\n",
        "JULIA_NUM_THREADS=2\n",
        "#---------------------------------------------------#\n",
        "\n",
        "if [ -z `which julia` ]; then\n",
        "  # Install Julia\n",
        "  JULIA_VER=`cut -d '.' -f -2 <<< \"$JULIA_VERSION\"`\n",
        "  echo \"Installing Julia $JULIA_VERSION on the current Colab Runtime...\"\n",
        "  BASE_URL=\"https://julialang-s3.julialang.org/bin/linux/x64\"\n",
        "  URL=\"$BASE_URL/$JULIA_VER/julia-$JULIA_VERSION-linux-x86_64.tar.gz\"\n",
        "  wget -nv $URL -O /tmp/julia.tar.gz # -nv means \"not verbose\"\n",
        "  tar -x -f /tmp/julia.tar.gz -C /usr/local --strip-components 1\n",
        "  rm /tmp/julia.tar.gz\n",
        "\n",
        "  # Install Packages\n",
        "  nvidia-smi -L &> /dev/null && export GPU=1 || export GPU=0\n",
        "  if [ $GPU -eq 1 ]; then\n",
        "    JULIA_PACKAGES=\"$JULIA_PACKAGES $JULIA_PACKAGES_IF_GPU\"\n",
        "  fi\n",
        "  for PKG in `echo $JULIA_PACKAGES`; do\n",
        "    echo \"Installing Julia package $PKG...\"\n",
        "    julia -e 'using Pkg; pkg\"add '$PKG'; precompile;\"' &> /dev/null\n",
        "  done\n",
        "\n",
        "  # Install kernel and rename it to \"julia\"\n",
        "  echo \"Installing IJulia kernel...\"\n",
        "  julia -e 'using IJulia; IJulia.installkernel(\"julia\", env=Dict(\n",
        "      \"JULIA_NUM_THREADS\"=>\"'\"$JULIA_NUM_THREADS\"'\"))'\n",
        "  KERNEL_DIR=`julia -e \"using IJulia; print(IJulia.kerneldir())\"`\n",
        "  KERNEL_NAME=`ls -d \"$KERNEL_DIR\"/julia*`\n",
        "  mv -f $KERNEL_NAME \"$KERNEL_DIR\"/julia\n",
        "\n",
        "  echo ''\n",
        "  echo \"Successfully installed `julia -v`!\"\n",
        "  echo \"Please reload this page (press Ctrl+R, ⌘+R, or the F5 key) then\"\n",
        "  echo \"jump to the 'Checking the Installation' section.\"\n",
        "fi"
      ]
    },
    {
      "cell_type": "markdown",
      "source": [
        "## Change the Runtime Type\n",
        "\n",
        "Ensure to change the runtime type to Julia and GPU, save before running"
      ],
      "metadata": {
        "id": "VsLSaFDap9fc"
      }
    },
    {
      "cell_type": "code",
      "source": [
        "# Define the modular exponentiation function in Julia\n",
        "function mod_exp(base::Int, exp::Int, mod::Int)\n",
        "    result = 1\n",
        "    base = base % mod  # Reduce base modulo mod initially\n",
        "\n",
        "    while exp > 0\n",
        "        if exp % 2 == 1  # If exponent is odd, multiply base with result\n",
        "            result = (result * base) % mod\n",
        "        end\n",
        "        exp = exp ÷ 2  # Integer division (equivalent to exp // 2 in Python)\n",
        "        base = (base * base) % mod  # Square the base\n",
        "    end\n",
        "\n",
        "    return result\n",
        "end\n"
      ],
      "metadata": {
        "colab": {
          "base_uri": "https://localhost:8080/"
        },
        "id": "erD-tysK-vl8",
        "outputId": "85962a87-4d92-4287-e8dc-b769741d185f"
      },
      "execution_count": null,
      "outputs": [
        {
          "output_type": "execute_result",
          "data": {
            "text/plain": [
              "mod_exp (generic function with 1 method)"
            ]
          },
          "metadata": {},
          "execution_count": 1
        }
      ]
    },
    {
      "cell_type": "code",
      "source": [
        "# Compute the execution time using the BenchmarkTools\n",
        "using BenchmarkTools\n",
        "\n",
        "function benchmark()\n",
        "    base, exp, mod = 987654321, 123456, 1000000007\n",
        "\n",
        "    @btime mod_exp($base, $exp, $mod)  # Benchmark custom function\n",
        "    @btime powermod($base, $exp, $mod)  # Built-in optimized modular exponentiation\n",
        "end\n",
        "\n",
        "benchmark()\n"
      ],
      "metadata": {
        "colab": {
          "base_uri": "https://localhost:8080/"
        },
        "id": "PYr_KC3fdOm3",
        "outputId": "e3b808ee-9131-4ee4-be92-224d61e36fc1"
      },
      "execution_count": null,
      "outputs": [
        {
          "output_type": "stream",
          "name": "stdout",
          "text": [
            "  263.680 ns (0 allocations: 0 bytes)\n",
            "  404.145 ns (0 allocations: 0 bytes)\n"
          ]
        },
        {
          "output_type": "execute_result",
          "data": {
            "text/plain": [
              "443640203"
            ]
          },
          "metadata": {},
          "execution_count": 13
        }
      ]
    },
    {
      "cell_type": "markdown",
      "source": [
        "# Further Optimization\n",
        "\n",
        "In cases of multiple bases using a multi-thread reduces execution time"
      ],
      "metadata": {
        "id": "BJkOCqRKw5mW"
      }
    },
    {
      "cell_type": "code",
      "source": [
        "using BenchmarkTools, Base.Threads\n",
        "\n",
        "function parallel_mod_exp(bases::Vector{Int}, exp::Int, mod::Int)\n",
        "    results = Vector{Int}(undef, length(bases))\n",
        "\n",
        "    @threads for i in eachindex(bases)\n",
        "        results[i] = mod_exp(bases[i], exp, mod)\n",
        "    end\n",
        "\n",
        "    return results\n",
        "end\n",
        "\n",
        "# Example usage\n",
        "bases = [123, 456, 789, 987654321]  # Multiple bases\n",
        "mod_results = parallel_mod_exp(bases, 123456, 1000000007)\n",
        "println(mod_results)\n",
        "\n",
        "# Benchmark single-threaded execution\n",
        "@time mod_results"
      ],
      "metadata": {
        "colab": {
          "base_uri": "https://localhost:8080/"
        },
        "id": "p6ln57mKdgdW",
        "outputId": "7f081ac1-8ad9-4c66-aafc-bb63f449f11d"
      },
      "execution_count": null,
      "outputs": [
        {
          "output_type": "stream",
          "name": "stdout",
          "text": [
            "[849990013, 144170895, 361310820, 443640203]\n",
            "  0.000001 seconds\n"
          ]
        },
        {
          "output_type": "execute_result",
          "data": {
            "text/plain": [
              "4-element Vector{Int64}:\n",
              " 849990013\n",
              " 144170895\n",
              " 361310820\n",
              " 443640203"
            ]
          },
          "metadata": {},
          "execution_count": 7
        }
      ]
    }
  ]
}